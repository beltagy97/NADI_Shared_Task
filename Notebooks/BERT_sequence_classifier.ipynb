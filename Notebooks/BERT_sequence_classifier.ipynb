{
  "nbformat": 4,
  "nbformat_minor": 0,
  "metadata": {
    "colab": {
      "name": "BERT sequence classifier.ipynb",
      "provenance": [],
      "collapsed_sections": [],
      "toc_visible": true,
      "mount_file_id": "1y0KC2nuoA-odmEel-Sb8cSYsdaoS65uV",
      "authorship_tag": "ABX9TyMt098XbQ1oBtUc31NhnD5T",
      "include_colab_link": true
    },
    "kernelspec": {
      "name": "python3",
      "display_name": "Python 3"
    },
    "accelerator": "GPU"
  },
  "cells": [
    {
      "cell_type": "markdown",
      "metadata": {
        "id": "view-in-github",
        "colab_type": "text"
      },
      "source": [
        "<a href=\"https://colab.research.google.com/github/beltagy97/NADI_Shared_Task/blob/master/BERT_sequence_classifier.ipynb\" target=\"_parent\"><img src=\"https://colab.research.google.com/assets/colab-badge.svg\" alt=\"Open In Colab\"/></a>"
      ]
    },
    {
      "cell_type": "markdown",
      "metadata": {
        "id": "mpDIQnT4q6-W",
        "colab_type": "text"
      },
      "source": [
        "# Installing requirements"
      ]
    },
    {
      "cell_type": "code",
      "metadata": {
        "id": "BUsgKcZR5990",
        "colab_type": "code",
        "outputId": "ddd82997-7f8e-4b4b-d9aa-a6082e93a10f",
        "colab": {
          "base_uri": "https://localhost:8080/",
          "height": 52
        }
      },
      "source": [
        "import torch\n",
        "\n",
        "# If there's a GPU available...\n",
        "if torch.cuda.is_available():    \n",
        "\n",
        "    # Tell PyTorch to use the GPU.    \n",
        "    device = torch.device(\"cuda\")\n",
        "\n",
        "    print('There are %d GPU(s) available.' % torch.cuda.device_count())\n",
        "\n",
        "    print('We will use the GPU:', torch.cuda.get_device_name(0))\n",
        "\n",
        "# If not...\n",
        "else:\n",
        "    print('No GPU available, using the CPU instead.')\n",
        "    device = torch.device(\"cpu\")"
      ],
      "execution_count": 0,
      "outputs": [
        {
          "output_type": "stream",
          "text": [
            "There are 1 GPU(s) available.\n",
            "We will use the GPU: Tesla P4\n"
          ],
          "name": "stdout"
        }
      ]
    },
    {
      "cell_type": "code",
      "metadata": {
        "id": "6AaFRHtwEyO0",
        "colab_type": "code",
        "outputId": "d99b8384-c5f8-4105-fc32-7eb323f40efa",
        "colab": {
          "base_uri": "https://localhost:8080/",
          "height": 706
        }
      },
      "source": [
        "!pip install transformers"
      ],
      "execution_count": 0,
      "outputs": [
        {
          "output_type": "stream",
          "text": [
            "Collecting transformers\n",
            "\u001b[?25l  Downloading https://files.pythonhosted.org/packages/a3/78/92cedda05552398352ed9784908b834ee32a0bd071a9b32de287327370b7/transformers-2.8.0-py3-none-any.whl (563kB)\n",
            "\r\u001b[K     |▋                               | 10kB 22.5MB/s eta 0:00:01\r\u001b[K     |█▏                              | 20kB 27.4MB/s eta 0:00:01\r\u001b[K     |█▊                              | 30kB 31.5MB/s eta 0:00:01\r\u001b[K     |██▎                             | 40kB 35.0MB/s eta 0:00:01\r\u001b[K     |███                             | 51kB 36.2MB/s eta 0:00:01\r\u001b[K     |███▌                            | 61kB 38.6MB/s eta 0:00:01\r\u001b[K     |████                            | 71kB 39.3MB/s eta 0:00:01\r\u001b[K     |████▋                           | 81kB 39.6MB/s eta 0:00:01\r\u001b[K     |█████▎                          | 92kB 40.5MB/s eta 0:00:01\r\u001b[K     |█████▉                          | 102kB 40.2MB/s eta 0:00:01\r\u001b[K     |██████▍                         | 112kB 40.2MB/s eta 0:00:01\r\u001b[K     |███████                         | 122kB 40.2MB/s eta 0:00:01\r\u001b[K     |███████▋                        | 133kB 40.2MB/s eta 0:00:01\r\u001b[K     |████████▏                       | 143kB 40.2MB/s eta 0:00:01\r\u001b[K     |████████▊                       | 153kB 40.2MB/s eta 0:00:01\r\u001b[K     |█████████▎                      | 163kB 40.2MB/s eta 0:00:01\r\u001b[K     |█████████▉                      | 174kB 40.2MB/s eta 0:00:01\r\u001b[K     |██████████▌                     | 184kB 40.2MB/s eta 0:00:01\r\u001b[K     |███████████                     | 194kB 40.2MB/s eta 0:00:01\r\u001b[K     |███████████▋                    | 204kB 40.2MB/s eta 0:00:01\r\u001b[K     |████████████▏                   | 215kB 40.2MB/s eta 0:00:01\r\u001b[K     |████████████▉                   | 225kB 40.2MB/s eta 0:00:01\r\u001b[K     |█████████████▍                  | 235kB 40.2MB/s eta 0:00:01\r\u001b[K     |██████████████                  | 245kB 40.2MB/s eta 0:00:01\r\u001b[K     |██████████████▌                 | 256kB 40.2MB/s eta 0:00:01\r\u001b[K     |███████████████▏                | 266kB 40.2MB/s eta 0:00:01\r\u001b[K     |███████████████▊                | 276kB 40.2MB/s eta 0:00:01\r\u001b[K     |████████████████▎               | 286kB 40.2MB/s eta 0:00:01\r\u001b[K     |████████████████▉               | 296kB 40.2MB/s eta 0:00:01\r\u001b[K     |█████████████████▍              | 307kB 40.2MB/s eta 0:00:01\r\u001b[K     |██████████████████              | 317kB 40.2MB/s eta 0:00:01\r\u001b[K     |██████████████████▋             | 327kB 40.2MB/s eta 0:00:01\r\u001b[K     |███████████████████▏            | 337kB 40.2MB/s eta 0:00:01\r\u001b[K     |███████████████████▊            | 348kB 40.2MB/s eta 0:00:01\r\u001b[K     |████████████████████▍           | 358kB 40.2MB/s eta 0:00:01\r\u001b[K     |█████████████████████           | 368kB 40.2MB/s eta 0:00:01\r\u001b[K     |█████████████████████▌          | 378kB 40.2MB/s eta 0:00:01\r\u001b[K     |██████████████████████          | 389kB 40.2MB/s eta 0:00:01\r\u001b[K     |██████████████████████▊         | 399kB 40.2MB/s eta 0:00:01\r\u001b[K     |███████████████████████▎        | 409kB 40.2MB/s eta 0:00:01\r\u001b[K     |███████████████████████▉        | 419kB 40.2MB/s eta 0:00:01\r\u001b[K     |████████████████████████▍       | 430kB 40.2MB/s eta 0:00:01\r\u001b[K     |█████████████████████████       | 440kB 40.2MB/s eta 0:00:01\r\u001b[K     |█████████████████████████▋      | 450kB 40.2MB/s eta 0:00:01\r\u001b[K     |██████████████████████████▏     | 460kB 40.2MB/s eta 0:00:01\r\u001b[K     |██████████████████████████▊     | 471kB 40.2MB/s eta 0:00:01\r\u001b[K     |███████████████████████████▎    | 481kB 40.2MB/s eta 0:00:01\r\u001b[K     |████████████████████████████    | 491kB 40.2MB/s eta 0:00:01\r\u001b[K     |████████████████████████████▌   | 501kB 40.2MB/s eta 0:00:01\r\u001b[K     |█████████████████████████████   | 512kB 40.2MB/s eta 0:00:01\r\u001b[K     |█████████████████████████████▋  | 522kB 40.2MB/s eta 0:00:01\r\u001b[K     |██████████████████████████████▎ | 532kB 40.2MB/s eta 0:00:01\r\u001b[K     |██████████████████████████████▉ | 542kB 40.2MB/s eta 0:00:01\r\u001b[K     |███████████████████████████████▍| 552kB 40.2MB/s eta 0:00:01\r\u001b[K     |████████████████████████████████| 563kB 40.2MB/s eta 0:00:01\r\u001b[K     |████████████████████████████████| 573kB 40.2MB/s \n",
            "\u001b[?25hRequirement already satisfied: tqdm>=4.27 in /usr/local/lib/python3.6/dist-packages (from transformers) (4.38.0)\n",
            "Collecting sentencepiece\n",
            "\u001b[?25l  Downloading https://files.pythonhosted.org/packages/98/2c/8df20f3ac6c22ac224fff307ebc102818206c53fc454ecd37d8ac2060df5/sentencepiece-0.1.86-cp36-cp36m-manylinux1_x86_64.whl (1.0MB)\n",
            "\u001b[K     |████████████████████████████████| 1.0MB 45.4MB/s \n",
            "\u001b[?25hCollecting sacremoses\n",
            "\u001b[?25l  Downloading https://files.pythonhosted.org/packages/99/50/93509f906a40bffd7d175f97fd75ea328ad9bd91f48f59c4bd084c94a25e/sacremoses-0.0.41.tar.gz (883kB)\n",
            "\u001b[K     |████████████████████████████████| 890kB 40.4MB/s \n",
            "\u001b[?25hCollecting tokenizers==0.5.2\n",
            "\u001b[?25l  Downloading https://files.pythonhosted.org/packages/d1/3f/73c881ea4723e43c1e9acf317cf407fab3a278daab3a69c98dcac511c04f/tokenizers-0.5.2-cp36-cp36m-manylinux1_x86_64.whl (3.7MB)\n",
            "\u001b[K     |████████████████████████████████| 3.7MB 44.8MB/s \n",
            "\u001b[?25hRequirement already satisfied: dataclasses; python_version < \"3.7\" in /usr/local/lib/python3.6/dist-packages (from transformers) (0.7)\n",
            "Requirement already satisfied: numpy in /usr/local/lib/python3.6/dist-packages (from transformers) (1.18.3)\n",
            "Requirement already satisfied: regex!=2019.12.17 in /usr/local/lib/python3.6/dist-packages (from transformers) (2019.12.20)\n",
            "Requirement already satisfied: requests in /usr/local/lib/python3.6/dist-packages (from transformers) (2.21.0)\n",
            "Requirement already satisfied: filelock in /usr/local/lib/python3.6/dist-packages (from transformers) (3.0.12)\n",
            "Requirement already satisfied: boto3 in /usr/local/lib/python3.6/dist-packages (from transformers) (1.12.43)\n",
            "Requirement already satisfied: six in /usr/local/lib/python3.6/dist-packages (from sacremoses->transformers) (1.12.0)\n",
            "Requirement already satisfied: click in /usr/local/lib/python3.6/dist-packages (from sacremoses->transformers) (7.1.1)\n",
            "Requirement already satisfied: joblib in /usr/local/lib/python3.6/dist-packages (from sacremoses->transformers) (0.14.1)\n",
            "Requirement already satisfied: certifi>=2017.4.17 in /usr/local/lib/python3.6/dist-packages (from requests->transformers) (2020.4.5.1)\n",
            "Requirement already satisfied: chardet<3.1.0,>=3.0.2 in /usr/local/lib/python3.6/dist-packages (from requests->transformers) (3.0.4)\n",
            "Requirement already satisfied: idna<2.9,>=2.5 in /usr/local/lib/python3.6/dist-packages (from requests->transformers) (2.8)\n",
            "Requirement already satisfied: urllib3<1.25,>=1.21.1 in /usr/local/lib/python3.6/dist-packages (from requests->transformers) (1.24.3)\n",
            "Requirement already satisfied: botocore<1.16.0,>=1.15.43 in /usr/local/lib/python3.6/dist-packages (from boto3->transformers) (1.15.43)\n",
            "Requirement already satisfied: jmespath<1.0.0,>=0.7.1 in /usr/local/lib/python3.6/dist-packages (from boto3->transformers) (0.9.5)\n",
            "Requirement already satisfied: s3transfer<0.4.0,>=0.3.0 in /usr/local/lib/python3.6/dist-packages (from boto3->transformers) (0.3.3)\n",
            "Requirement already satisfied: docutils<0.16,>=0.10 in /usr/local/lib/python3.6/dist-packages (from botocore<1.16.0,>=1.15.43->boto3->transformers) (0.15.2)\n",
            "Requirement already satisfied: python-dateutil<3.0.0,>=2.1 in /usr/local/lib/python3.6/dist-packages (from botocore<1.16.0,>=1.15.43->boto3->transformers) (2.8.1)\n",
            "Building wheels for collected packages: sacremoses\n",
            "  Building wheel for sacremoses (setup.py) ... \u001b[?25l\u001b[?25hdone\n",
            "  Created wheel for sacremoses: filename=sacremoses-0.0.41-cp36-none-any.whl size=893334 sha256=405172b3cfd10640a374b93e98121470a2daf14396f61a252b22dcadd21b2bf4\n",
            "  Stored in directory: /root/.cache/pip/wheels/22/5a/d4/b020a81249de7dc63758a34222feaa668dbe8ebfe9170cc9b1\n",
            "Successfully built sacremoses\n",
            "Installing collected packages: sentencepiece, sacremoses, tokenizers, transformers\n",
            "Successfully installed sacremoses-0.0.41 sentencepiece-0.1.86 tokenizers-0.5.2 transformers-2.8.0\n"
          ],
          "name": "stdout"
        }
      ]
    },
    {
      "cell_type": "code",
      "metadata": {
        "id": "Mvr_8nYEggEn",
        "colab_type": "code",
        "outputId": "6b55b212-1c32-4b0f-db06-de1c5791ece4",
        "colab": {
          "base_uri": "https://localhost:8080/",
          "height": 213
        }
      },
      "source": [
        "!pip install pyarabic"
      ],
      "execution_count": 0,
      "outputs": [
        {
          "output_type": "stream",
          "text": [
            "Collecting pyarabic\n",
            "\u001b[?25l  Downloading https://files.pythonhosted.org/packages/ee/59/2c7efe30a789c1dfd3c5c15b9b06fcde8cde67ff1c27adabb78692eb7f7f/PyArabic-0.6.7.tar.gz (103kB)\n",
            "\r\u001b[K     |███▏                            | 10kB 24.6MB/s eta 0:00:01\r\u001b[K     |██████▍                         | 20kB 31.7MB/s eta 0:00:01\r\u001b[K     |█████████▌                      | 30kB 36.4MB/s eta 0:00:01\r\u001b[K     |████████████▊                   | 40kB 38.2MB/s eta 0:00:01\r\u001b[K     |███████████████▉                | 51kB 20.9MB/s eta 0:00:01\r\u001b[K     |███████████████████             | 61kB 19.3MB/s eta 0:00:01\r\u001b[K     |██████████████████████▏         | 71kB 16.4MB/s eta 0:00:01\r\u001b[K     |█████████████████████████▍      | 81kB 16.0MB/s eta 0:00:01\r\u001b[K     |████████████████████████████▌   | 92kB 16.5MB/s eta 0:00:01\r\u001b[K     |███████████████████████████████▊| 102kB 16.0MB/s eta 0:00:01\r\u001b[K     |████████████████████████████████| 112kB 16.0MB/s \n",
            "\u001b[?25hBuilding wheels for collected packages: pyarabic\n",
            "  Building wheel for pyarabic (setup.py) ... \u001b[?25l\u001b[?25hdone\n",
            "  Created wheel for pyarabic: filename=PyArabic-0.6.7-cp36-none-any.whl size=108603 sha256=3fe0064c1e2f495cd46faae4b23bd1c928ee64f24fbbd2e079842be50a9e15d6\n",
            "  Stored in directory: /root/.cache/pip/wheels/c6/50/b1/4df7f705f36e91360ab04416dbf1017084698d30a7a3645b5e\n",
            "Successfully built pyarabic\n",
            "Installing collected packages: pyarabic\n",
            "Successfully installed pyarabic-0.6.7\n"
          ],
          "name": "stdout"
        }
      ]
    },
    {
      "cell_type": "code",
      "metadata": {
        "id": "vB-HQJe7o4Pc",
        "colab_type": "code",
        "colab": {}
      },
      "source": [
        "from transformers import AutoTokenizer, AutoModel\n",
        "\n",
        "tokenizer = AutoTokenizer.from_pretrained(\"asafaya/bert-base-arabic\")\n",
        "model = AutoModel.from_pretrained(\"asafaya/bert-base-arabic\")"
      ],
      "execution_count": 0,
      "outputs": []
    },
    {
      "cell_type": "code",
      "metadata": {
        "id": "JM2KmzJpeaOw",
        "colab_type": "code",
        "colab": {}
      },
      "source": [
        "from transformers import BertForSequenceClassification\n",
        "\n",
        "model = BertForSequenceClassification.from_pretrained(\n",
        "    \"asafaya/bert-base-arabic\", # Use the 12-layer BERT model, with an uncased vocab.\n",
        "    num_labels = 21, \n",
        "    output_attentions = False, # Whether the model returns attentions weights.\n",
        "    output_hidden_states = False, # Whether the model returns all hidden-states.\n",
        ")"
      ],
      "execution_count": 0,
      "outputs": []
    },
    {
      "cell_type": "markdown",
      "metadata": {
        "id": "iH6eTJqBrJgA",
        "colab_type": "text"
      },
      "source": [
        "# reading data"
      ]
    },
    {
      "cell_type": "code",
      "metadata": {
        "id": "KaTj_xSqf0K3",
        "colab_type": "code",
        "colab": {}
      },
      "source": [
        "labels_dictionary = {'Iraq':0,\n",
        "'Egypt': 1,\n",
        "'Algeria':2,\n",
        "'Yemen':3,\n",
        "'Saudi_Arabia':4,\n",
        "'Syria':5,\n",
        "'United_Arab_Emirates':6,\n",
        "'Oman':7,\n",
        "'Jordan':8,\n",
        "'Tunisia':9,\n",
        "'Kuwait':10,\n",
        "'Morocco':11,\n",
        "'Libya':12,\n",
        "'Qatar':13,\n",
        "'Lebanon':14,\n",
        "'Sudan':15,\n",
        "'Mauritania':16,\n",
        "'Palestine':17,\n",
        "'Somalia':18,\n",
        "'Bahrain':19,\n",
        "'Djibouti':20}"
      ],
      "execution_count": 0,
      "outputs": []
    },
    {
      "cell_type": "code",
      "metadata": {
        "id": "jYTNUND1gbLh",
        "colab_type": "code",
        "colab": {}
      },
      "source": [
        "import re\n",
        "import pyarabic.araby as arb\n",
        "def clean_tweet(tweet):\n",
        "  result = re.sub(r\"http\\S+\", \"\", tweet)\n",
        "  result=re.sub(r\"pic\\S+\", \"\", result)\n",
        "  result = re.sub(r\"@\\S+\",\"\",result)\n",
        "  result = arb.strip_tashkeel(result)\n",
        "  return result"
      ],
      "execution_count": 0,
      "outputs": []
    },
    {
      "cell_type": "code",
      "metadata": {
        "id": "xL-nMLbve_tW",
        "colab_type": "code",
        "colab": {}
      },
      "source": [
        "def read_tweets_labeled(file):\n",
        "  df = pd.read_csv(file,sep=\"\\t\",dtype=\"string\")\n",
        "  df['#2 tweet_content'] = df['#2 tweet_content'].apply(lambda x : clean_tweet(x))\n",
        "  df['label'] = df['#3 country_label'].apply(lambda x : labels_dictionary.get(x)) \n",
        "  return df"
      ],
      "execution_count": 0,
      "outputs": []
    },
    {
      "cell_type": "code",
      "metadata": {
        "id": "9SlfcZEe_EgQ",
        "colab_type": "code",
        "colab": {}
      },
      "source": [
        "import pandas as pd\n",
        "data = read_tweets_labeled('drive/My Drive/NADI_release/train_labeled.tsv')"
      ],
      "execution_count": 0,
      "outputs": []
    },
    {
      "cell_type": "code",
      "metadata": {
        "id": "Dg_BHU4s0Qj0",
        "colab_type": "code",
        "colab": {}
      },
      "source": [
        "from sklearn.utils import resample\n",
        "df_majority = data[data['label'] == 9]\n",
        "qatar = data[data['label'] == 13]\n",
        "bahrain = data[data['label'] == 19]\n",
        "dijbouti = data[data['label'] == 20]"
      ],
      "execution_count": 0,
      "outputs": []
    },
    {
      "cell_type": "code",
      "metadata": {
        "id": "coi3IKAl0Tvk",
        "colab_type": "code",
        "colab": {}
      },
      "source": [
        "qatar_upsampled = resample(qatar, replace=True, n_samples=len(df_majority) - len(qatar))\n",
        "bahrain_upsampled = resample(bahrain, replace=True, n_samples=len(df_majority) - len(bahrain))\n",
        "dijbouti_upsampled = resample(dijbouti, replace=True, n_samples=len(df_majority) - len(dijbouti))"
      ],
      "execution_count": 0,
      "outputs": []
    },
    {
      "cell_type": "code",
      "metadata": {
        "id": "QPaiJFpr0bBM",
        "colab_type": "code",
        "outputId": "d05d804d-4b1c-40b9-e879-88de7554020b",
        "colab": {
          "base_uri": "https://localhost:8080/",
          "height": 404
        }
      },
      "source": [
        "data = pd.concat([data, qatar_upsampled,bahrain_upsampled,dijbouti_upsampled])\n",
        "data.label.value_counts()"
      ],
      "execution_count": 0,
      "outputs": [
        {
          "output_type": "execute_result",
          "data": {
            "text/plain": [
              "1     4473\n",
              "0     2556\n",
              "4     2312\n",
              "2     1491\n",
              "7     1098\n",
              "6     1070\n",
              "5     1070\n",
              "11    1070\n",
              "12    1070\n",
              "3      851\n",
              "9      750\n",
              "20     750\n",
              "19     750\n",
              "13     750\n",
              "14     639\n",
              "8      426\n",
              "10     420\n",
              "17     420\n",
              "18     210\n",
              "16     210\n",
              "15     210\n",
              "Name: label, dtype: int64"
            ]
          },
          "metadata": {
            "tags": []
          },
          "execution_count": 122
        }
      ]
    },
    {
      "cell_type": "code",
      "metadata": {
        "id": "J_23EtDTgI0T",
        "colab_type": "code",
        "outputId": "61dfcb16-b263-4a41-854c-36fd07ffb2e5",
        "colab": {
          "base_uri": "https://localhost:8080/",
          "height": 195
        }
      },
      "source": [
        "data.head()"
      ],
      "execution_count": 0,
      "outputs": [
        {
          "output_type": "execute_result",
          "data": {
            "text/html": [
              "<div>\n",
              "<style scoped>\n",
              "    .dataframe tbody tr th:only-of-type {\n",
              "        vertical-align: middle;\n",
              "    }\n",
              "\n",
              "    .dataframe tbody tr th {\n",
              "        vertical-align: top;\n",
              "    }\n",
              "\n",
              "    .dataframe thead th {\n",
              "        text-align: right;\n",
              "    }\n",
              "</style>\n",
              "<table border=\"1\" class=\"dataframe\">\n",
              "  <thead>\n",
              "    <tr style=\"text-align: right;\">\n",
              "      <th></th>\n",
              "      <th>#1 tweet_ID</th>\n",
              "      <th>#2 tweet_content</th>\n",
              "      <th>#3 country_label</th>\n",
              "      <th>#4 province_label</th>\n",
              "      <th>label</th>\n",
              "    </tr>\n",
              "  </thead>\n",
              "  <tbody>\n",
              "    <tr>\n",
              "      <th>0</th>\n",
              "      <td>Dev_1</td>\n",
              "      <td>الفار العور يشوف فقط كيسي ومايشوف ماتويد</td>\n",
              "      <td>Iraq</td>\n",
              "      <td>iq_Al-Anbar</td>\n",
              "      <td>0</td>\n",
              "    </tr>\n",
              "    <tr>\n",
              "      <th>1</th>\n",
              "      <td>Dev_2</td>\n",
              "      <td>ي دينيييي ربنا يستر</td>\n",
              "      <td>Egypt</td>\n",
              "      <td>eg_Alexandria</td>\n",
              "      <td>1</td>\n",
              "    </tr>\n",
              "    <tr>\n",
              "      <th>2</th>\n",
              "      <td>Dev_3</td>\n",
              "      <td>أساسا نسبكم قذر ونجس بلاش تتفاخروا بنجاستكم يا...</td>\n",
              "      <td>Iraq</td>\n",
              "      <td>iq_Maysan</td>\n",
              "      <td>0</td>\n",
              "    </tr>\n",
              "    <tr>\n",
              "      <th>3</th>\n",
              "      <td>Dev_4</td>\n",
              "      <td>ليست كل المشاعر تحتاج إلى حبيب بعض المشاعر تحت...</td>\n",
              "      <td>Morocco</td>\n",
              "      <td>ma_Oriental</td>\n",
              "      <td>11</td>\n",
              "    </tr>\n",
              "    <tr>\n",
              "      <th>4</th>\n",
              "      <td>Dev_5</td>\n",
              "      <td>لأ ني حاضرها هذي لايف</td>\n",
              "      <td>Libya</td>\n",
              "      <td>ly_Al-Jabal-al-Akhdar</td>\n",
              "      <td>12</td>\n",
              "    </tr>\n",
              "  </tbody>\n",
              "</table>\n",
              "</div>"
            ],
            "text/plain": [
              "  #1 tweet_ID  ... label\n",
              "0       Dev_1  ...     0\n",
              "1       Dev_2  ...     1\n",
              "2       Dev_3  ...     0\n",
              "3       Dev_4  ...    11\n",
              "4       Dev_5  ...    12\n",
              "\n",
              "[5 rows x 5 columns]"
            ]
          },
          "metadata": {
            "tags": []
          },
          "execution_count": 123
        }
      ]
    },
    {
      "cell_type": "markdown",
      "metadata": {
        "id": "NczGleIHZmay",
        "colab_type": "text"
      },
      "source": [
        "# testing tokenizer"
      ]
    },
    {
      "cell_type": "code",
      "metadata": {
        "id": "S3FucMcYKzUy",
        "colab_type": "code",
        "colab": {}
      },
      "source": [
        "train_text = data['#2 tweet_content'].values\n",
        "train_labels = data['label'].values"
      ],
      "execution_count": 0,
      "outputs": []
    },
    {
      "cell_type": "code",
      "metadata": {
        "id": "RSpo48XG_hra",
        "colab_type": "code",
        "outputId": "e0c98d51-feb7-4474-c370-34615986b717",
        "colab": {
          "base_uri": "https://localhost:8080/",
          "height": 70
        }
      },
      "source": [
        "print(' Original: ', X_train[2])\n",
        "\n",
        "# Print the sentence split into tokens.\n",
        "print('Tokenized: ', tokenizer.tokenize(X_train[2]))\n",
        "\n",
        "print('Token IDs: ', tokenizer.convert_tokens_to_ids(tokenizer.tokenize(X_train[2])))"
      ],
      "execution_count": 0,
      "outputs": [
        {
          "output_type": "stream",
          "text": [
            " Original:  خلص يبقى بعرفكيش\n",
            "Tokenized:  ['خلص', 'يبقى', 'بع', '##رف', '##كي', '##ش']\n",
            "Token IDs:  [29471, 8081, 2921, 1870, 2179, 1034]\n"
          ],
          "name": "stdout"
        }
      ]
    },
    {
      "cell_type": "markdown",
      "metadata": {
        "id": "GBTYFsy4KtN1",
        "colab_type": "text"
      },
      "source": [
        "# Tokenization"
      ]
    },
    {
      "cell_type": "code",
      "metadata": {
        "id": "XGzd9P0ZeHse",
        "colab_type": "code",
        "colab": {}
      },
      "source": [
        "def Tokenize(train_text,train_labels):\n",
        "  input_ids = []\n",
        "  attention_masks = []\n",
        "\n",
        "  # For every sentence...\n",
        "  for sent in train_text:\n",
        "      # `encode_plus` will:\n",
        "      #   (1) Tokenize the sentence.\n",
        "      #   (2) Prepend the `[CLS]` token to the start.\n",
        "      #   (3) Append the `[SEP]` token to the end.\n",
        "      #   (4) Map tokens to their IDs.\n",
        "      #   (5) Pad or truncate the sentence to `max_length`\n",
        "      #   (6) Create attention masks for [PAD] tokens.\n",
        "      encoded_dict = tokenizer.encode_plus(\n",
        "                          sent,                      # Sentence to encode.\n",
        "                          add_special_tokens = True, # Add '[CLS]' and '[SEP]'\n",
        "                          max_length = 64,           # Pad & truncate all sentences.\n",
        "                          pad_to_max_length = True,\n",
        "                          return_attention_mask = True,   # Construct attn. masks.\n",
        "                          return_tensors = 'pt',     # Return pytorch tensors.\n",
        "                    )\n",
        "      \n",
        "      # Add the encoded sentence to the list.    \n",
        "      input_ids.append(encoded_dict['input_ids'])\n",
        "      \n",
        "      # And its attention mask (simply differentiates padding from non-padding).\n",
        "      attention_masks.append(encoded_dict['attention_mask'])\n",
        "\n",
        "  # Convert the lists into tensors.\n",
        "  input_ids = torch.cat(input_ids, dim=0)\n",
        "  attention_masks = torch.cat(attention_masks, dim=0)\n",
        "  labels = torch.tensor(train_labels)\n",
        "\n",
        "\n",
        "  print('Original: ', train_text[0])\n",
        "  print('Token IDs:', input_ids[0])\n",
        "  return input_ids,attention_masks,labels"
      ],
      "execution_count": 0,
      "outputs": []
    },
    {
      "cell_type": "markdown",
      "metadata": {
        "id": "SkQbLlSlvw7N",
        "colab_type": "text"
      },
      "source": [
        "stratification"
      ]
    },
    {
      "cell_type": "code",
      "metadata": {
        "id": "tEQXOg_SH_A3",
        "colab_type": "code",
        "outputId": "69e355b2-9011-48b4-d8c7-efcbcf0867a8",
        "colab": {
          "base_uri": "https://localhost:8080/",
          "height": 193
        }
      },
      "source": [
        "from sklearn.model_selection import StratifiedShuffleSplit\n",
        "\n",
        "sss = StratifiedShuffleSplit(n_splits=10, test_size=0.05, random_state=0)\n",
        "\n",
        "for train_index, test_index in sss.split(train_text,train_labels):\n",
        "  print(\"TRAIN:\", train_index, \"TEST:\", test_index)\n",
        "  X_train, X_dev = train_text[train_index], train_text[test_index]\n",
        "  y_train, y_dev = train_labels[train_index], train_labels[test_index]"
      ],
      "execution_count": 0,
      "outputs": [
        {
          "output_type": "stream",
          "text": [
            "TRAIN: [16742  4327  9421 ...  5061 17824 21606] TEST: [13210  6626 12281 ... 18178 11735  9916]\n",
            "TRAIN: [ 5613 16165 11837 ... 18074 10810 15826] TEST: [ 3826  9467 21081 ...  3708 14141  9694]\n",
            "TRAIN: [21346 19746  2927 ...  7305  3727  9981] TEST: [22379 20769  6370 ... 18347 16570 22329]\n",
            "TRAIN: [12113  7315 12257 ... 20089  7791  5682] TEST: [11816 12242   744 ...  5312 15889 13920]\n",
            "TRAIN: [13533  3875 20777 ...   446 15468 13018] TEST: [ 7358 21925 22340 ... 17827  2705  8357]\n",
            "TRAIN: [22384  3618  6961 ... 22515  2375  7199] TEST: [21681  9186  9511 ...  2952  4773 10810]\n",
            "TRAIN: [ 9604   224 11831 ...  3907 11123 15905] TEST: [ 4481  7476 18680 ...  8208 22351  2080]\n",
            "TRAIN: [13990  1877 21104 ... 14935  9237 15657] TEST: [ 8669 15666  3704 ... 20800 16809  1967]\n",
            "TRAIN: [18830  1271 18979 ... 10454 22118   755] TEST: [ 3292  2281  7478 ... 21157 19587  8056]\n",
            "TRAIN: [20307 14357 11161 ...  5908  2843  8784] TEST: [ 8877  1027  3135 ...  3086 22423 22234]\n"
          ],
          "name": "stdout"
        }
      ]
    },
    {
      "cell_type": "code",
      "metadata": {
        "id": "kV2eJql1eXKD",
        "colab_type": "code",
        "outputId": "beb81035-ed58-4245-bedf-5d8a29ff3c9d",
        "colab": {
          "base_uri": "https://localhost:8080/",
          "height": 158
        }
      },
      "source": [
        "input_ids,attention_masks,labels = Tokenize(X_train,y_train)"
      ],
      "execution_count": 0,
      "outputs": [
        {
          "output_type": "stream",
          "text": [
            "Original:  يابني بقول مش بفتحه يابني\n",
            "Token IDs: tensor([    2, 10173,  1907, 18732,  1944, 11114,  1033, 10173,  1907,     3,\n",
            "            0,     0,     0,     0,     0,     0,     0,     0,     0,     0,\n",
            "            0,     0,     0,     0,     0,     0,     0,     0,     0,     0,\n",
            "            0,     0,     0,     0,     0,     0,     0,     0,     0,     0,\n",
            "            0,     0,     0,     0,     0,     0,     0,     0,     0,     0,\n",
            "            0,     0,     0,     0,     0,     0,     0,     0,     0,     0,\n",
            "            0,     0,     0,     0])\n"
          ],
          "name": "stdout"
        }
      ]
    },
    {
      "cell_type": "code",
      "metadata": {
        "id": "10TyqJnefNsh",
        "colab_type": "code",
        "outputId": "a3bc857d-9401-4832-969c-92f7dd2456b4",
        "colab": {
          "base_uri": "https://localhost:8080/",
          "height": 158
        }
      },
      "source": [
        "input_ids_dev,attention_masks_dev,labels_dev = Tokenize(X_dev,y_dev)"
      ],
      "execution_count": 0,
      "outputs": [
        {
          "output_type": "stream",
          "text": [
            "Original:  من اي بلد تتابع صفحتنا؟؟ انا من الاردن ويوجد ادمنز من دول اخرى هلا مدريد \n",
            "Token IDs: tensor([    2,  1762,  1887,  4814, 20085, 11501,  3398,   232,   232,  2928,\n",
            "         1762,  4242, 16312,  4214,  8143,  1762,  2411,  2567, 17642,  5910,\n",
            "            3,     0,     0,     0,     0,     0,     0,     0,     0,     0,\n",
            "            0,     0,     0,     0,     0,     0,     0,     0,     0,     0,\n",
            "            0,     0,     0,     0,     0,     0,     0,     0,     0,     0,\n",
            "            0,     0,     0,     0,     0,     0,     0,     0,     0,     0,\n",
            "            0,     0,     0,     0])\n"
          ],
          "name": "stdout"
        }
      ]
    },
    {
      "cell_type": "code",
      "metadata": {
        "id": "A2dXCjZUfejh",
        "colab_type": "code",
        "outputId": "ca621366-d7e4-410f-9553-72f09717d00d",
        "colab": {
          "base_uri": "https://localhost:8080/",
          "height": 52
        }
      },
      "source": [
        "from torch.utils.data import TensorDataset, random_split\n",
        "\n",
        "train_dataset = TensorDataset(input_ids, attention_masks,labels)\n",
        "val_dataset = TensorDataset(input_ids_dev, attention_masks_dev,labels_dev)\n",
        "\n",
        "\n",
        "print('{:>5,} training samples'.format(train_dataset.__len__()))\n",
        "print('{:>5,} validation samples'.format(val_dataset.__len__()))"
      ],
      "execution_count": 0,
      "outputs": [
        {
          "output_type": "stream",
          "text": [
            "21,466 training samples\n",
            "1,130 validation samples\n"
          ],
          "name": "stdout"
        }
      ]
    },
    {
      "cell_type": "markdown",
      "metadata": {
        "id": "KUCMN663hknb",
        "colab_type": "text"
      },
      "source": [
        "stop using this cell"
      ]
    },
    {
      "cell_type": "code",
      "metadata": {
        "id": "Vcc7nPEKPGUD",
        "colab_type": "code",
        "outputId": "9ed7923c-930d-4d10-f497-2ac6b579b00a",
        "colab": {
          "base_uri": "https://localhost:8080/",
          "height": 52
        }
      },
      "source": [
        "from torch.utils.data import TensorDataset, random_split\n",
        "\n",
        "# Combine the training inputs into a TensorDataset.\n",
        "dataset = TensorDataset(input_ids, attention_masks,labels)\n",
        "\n",
        "# Create a train-validation split.\n",
        "\n",
        "# Calculate the number of samples to include in each set.\n",
        "train_size = int(0.95 * len(dataset))\n",
        "val_size = len(dataset) - train_size\n",
        "\n",
        "# Divide the dataset by randomly selecting samples.\n",
        "train_dataset, val_dataset = random_split(dataset, [train_size, val_size])\n",
        "\n",
        "print('{:>5,} training samples'.format(train_size))\n",
        "print('{:>5,} validation samples'.format(val_size))"
      ],
      "execution_count": 0,
      "outputs": [
        {
          "output_type": "stream",
          "text": [
            "19,950 training samples\n",
            "1,050 validation samples\n"
          ],
          "name": "stdout"
        }
      ]
    },
    {
      "cell_type": "code",
      "metadata": {
        "id": "Qwg-jgTzQS_c",
        "colab_type": "code",
        "colab": {}
      },
      "source": [
        "from torch.utils.data import DataLoader, RandomSampler, SequentialSampler\n",
        "\n",
        "batch_size = 32\n",
        "\n",
        "train_dataloader = DataLoader(\n",
        "            train_dataset,  # The training samples.\n",
        "            sampler = RandomSampler(train_dataset), # Select batches randomly\n",
        "            batch_size = batch_size # Trains with this batch size.\n",
        "        )\n",
        "\n",
        "validation_dataloader = DataLoader(\n",
        "            val_dataset, # The validation samples.\n",
        "            sampler = SequentialSampler(val_dataset), # Pull out batches sequentially.\n",
        "            batch_size = batch_size # Evaluate with this batch size.\n",
        "        )"
      ],
      "execution_count": 0,
      "outputs": []
    },
    {
      "cell_type": "markdown",
      "metadata": {
        "id": "1jNI2Rd5d1VC",
        "colab_type": "text"
      },
      "source": [
        "# Model layers "
      ]
    },
    {
      "cell_type": "code",
      "metadata": {
        "id": "WjKBPa9kQgFp",
        "colab_type": "code",
        "outputId": "80c394f1-4e7b-4def-90f6-7f936f7f264c",
        "colab": {
          "base_uri": "https://localhost:8080/",
          "height": 633
        }
      },
      "source": [
        "# Get all of the model's parameters as a list of tuples.\n",
        "params = list(model.named_parameters())\n",
        "\n",
        "print('The BERT model has {:} different named parameters.\\n'.format(len(params)))\n",
        "\n",
        "print('==== Embedding Layer ====\\n')\n",
        "\n",
        "for p in params[0:5]:\n",
        "    print(\"{:<55} {:>12}\".format(p[0], str(tuple(p[1].size()))))\n",
        "\n",
        "print('\\n==== First Transformer ====\\n')\n",
        "\n",
        "for p in params[5:21]:\n",
        "    print(\"{:<55} {:>12}\".format(p[0], str(tuple(p[1].size()))))\n",
        "\n",
        "print('\\n==== Output Layer ====\\n')\n",
        "\n",
        "for p in params[-4:]:\n",
        "    print(\"{:<55} {:>12}\".format(p[0], str(tuple(p[1].size()))))"
      ],
      "execution_count": 0,
      "outputs": [
        {
          "output_type": "stream",
          "text": [
            "The BERT model has 201 different named parameters.\n",
            "\n",
            "==== Embedding Layer ====\n",
            "\n",
            "bert.embeddings.word_embeddings.weight                  (32000, 768)\n",
            "bert.embeddings.position_embeddings.weight                (512, 768)\n",
            "bert.embeddings.token_type_embeddings.weight                (2, 768)\n",
            "bert.embeddings.LayerNorm.weight                              (768,)\n",
            "bert.embeddings.LayerNorm.bias                                (768,)\n",
            "\n",
            "==== First Transformer ====\n",
            "\n",
            "bert.encoder.layer.0.attention.self.query.weight          (768, 768)\n",
            "bert.encoder.layer.0.attention.self.query.bias                (768,)\n",
            "bert.encoder.layer.0.attention.self.key.weight            (768, 768)\n",
            "bert.encoder.layer.0.attention.self.key.bias                  (768,)\n",
            "bert.encoder.layer.0.attention.self.value.weight          (768, 768)\n",
            "bert.encoder.layer.0.attention.self.value.bias                (768,)\n",
            "bert.encoder.layer.0.attention.output.dense.weight        (768, 768)\n",
            "bert.encoder.layer.0.attention.output.dense.bias              (768,)\n",
            "bert.encoder.layer.0.attention.output.LayerNorm.weight        (768,)\n",
            "bert.encoder.layer.0.attention.output.LayerNorm.bias          (768,)\n",
            "bert.encoder.layer.0.intermediate.dense.weight           (3072, 768)\n",
            "bert.encoder.layer.0.intermediate.dense.bias                 (3072,)\n",
            "bert.encoder.layer.0.output.dense.weight                 (768, 3072)\n",
            "bert.encoder.layer.0.output.dense.bias                        (768,)\n",
            "bert.encoder.layer.0.output.LayerNorm.weight                  (768,)\n",
            "bert.encoder.layer.0.output.LayerNorm.bias                    (768,)\n",
            "\n",
            "==== Output Layer ====\n",
            "\n",
            "bert.pooler.dense.weight                                  (768, 768)\n",
            "bert.pooler.dense.bias                                        (768,)\n",
            "classifier.weight                                          (21, 768)\n",
            "classifier.bias                                                (21,)\n"
          ],
          "name": "stdout"
        }
      ]
    },
    {
      "cell_type": "code",
      "metadata": {
        "id": "vBwTRUu5Q7Fc",
        "colab_type": "code",
        "colab": {}
      },
      "source": [
        "from transformers import get_linear_schedule_with_warmup,AdamW\n",
        "\n",
        "optimizer = AdamW(model.parameters(),\n",
        "                  lr = 2e-5, \n",
        "                  eps = 1e-8)\n",
        "epochs = 4\n",
        "\n",
        "total_steps = len(train_dataloader) * epochs\n",
        "\n",
        "scheduler = get_linear_schedule_with_warmup(optimizer, num_warmup_steps = 0, num_training_steps = total_steps)"
      ],
      "execution_count": 0,
      "outputs": []
    },
    {
      "cell_type": "code",
      "metadata": {
        "id": "yJiW6MuMlneI",
        "colab_type": "code",
        "colab": {}
      },
      "source": [
        "import time\n",
        "import datetime\n",
        "import random\n",
        "import numpy as np\n",
        "\n",
        "def format_time(elapsed):\n",
        "    '''\n",
        "    Takes a time in seconds and returns a string hh:mm:ss\n",
        "    '''\n",
        "    # Round to the nearest second.\n",
        "    elapsed_rounded = int(round((elapsed)))\n",
        "    \n",
        "    # Format as hh:mm:ss\n",
        "    return str(datetime.timedelta(seconds=elapsed_rounded))"
      ],
      "execution_count": 0,
      "outputs": []
    },
    {
      "cell_type": "code",
      "metadata": {
        "id": "zrd4ibFalcgF",
        "colab_type": "code",
        "colab": {}
      },
      "source": [
        "def flat_accuracy(preds, labels):\n",
        "    pred_flat = np.argmax(preds, axis=1).flatten()\n",
        "    labels_flat = labels.flatten()\n",
        "    return np.sum(pred_flat == labels_flat) / len(labels_flat)"
      ],
      "execution_count": 0,
      "outputs": []
    },
    {
      "cell_type": "markdown",
      "metadata": {
        "id": "k0OgW2Fud5x8",
        "colab_type": "text"
      },
      "source": [
        "# Training loop"
      ]
    },
    {
      "cell_type": "code",
      "metadata": {
        "id": "rnU9YllURwVf",
        "colab_type": "code",
        "outputId": "d02aa82f-4570-4e06-8c70-128ced721db2",
        "colab": {
          "base_uri": "https://localhost:8080/",
          "height": 1000
        }
      },
      "source": [
        "# Set the seed value all over the place to make this reproducible.\n",
        "seed_val = 42\n",
        "\n",
        "random.seed(seed_val)\n",
        "np.random.seed(seed_val)\n",
        "torch.manual_seed(seed_val)\n",
        "torch.cuda.manual_seed_all(seed_val)\n",
        "\n",
        "# We'll store a number of quantities such as training and validation loss, \n",
        "# validation accuracy, and timings.\n",
        "training_stats = []\n",
        "\n",
        "# Measure the total training time for the whole run.\n",
        "total_t0 = time.time()\n",
        "\n",
        "# For each epoch...\n",
        "for epoch_i in range(0, epochs):\n",
        "    \n",
        "    # ========================================\n",
        "    #               Training\n",
        "    # ========================================\n",
        "    \n",
        "    # Perform one full pass over the training set.\n",
        "\n",
        "    print(\"\")\n",
        "    print('======== Epoch {:} / {:} ========'.format(epoch_i + 1, epochs))\n",
        "    print('Training...')\n",
        "    model.to(device)\n",
        "\n",
        "    # Measure how long the training epoch takes.\n",
        "    t0 = time.time()\n",
        "\n",
        "    # Reset the total loss for this epoch.\n",
        "    total_train_loss = 0\n",
        "\n",
        "    model.train()\n",
        "\n",
        "    # For each batch of training data...\n",
        "    for step, batch in enumerate(train_dataloader):\n",
        "\n",
        "        # Progress update every 40 batches.\n",
        "        if step % 40 == 0 and not step == 0:\n",
        "            # Calculate elapsed time in minutes.\n",
        "            elapsed = format_time(time.time() - t0)\n",
        "            \n",
        "            # Report progress.\n",
        "            print('  Batch {:>5,}  of  {:>5,}.    Elapsed: {:}.'.format(step, len(train_dataloader), elapsed))\n",
        "\n",
        "        # Unpack this training batch from our dataloader. \n",
        "        #\n",
        "        \n",
        "        \n",
        "        # `batch` contains three pytorch tensors:\n",
        "        #   [0]: input ids \n",
        "        #   [1]: attention masks\n",
        "        #   [2]: labels \n",
        "        b_input_ids = batch[0].to(device)\n",
        "        b_input_mask = batch[1].to(device)\n",
        "        b_labels = batch[2].to(device)\n",
        "\n",
        "        model.zero_grad()        \n",
        "\n",
        "        \n",
        "        loss, logits = model(b_input_ids, \n",
        "                             token_type_ids=None, \n",
        "                             attention_mask=b_input_mask, \n",
        "                             labels=b_labels)\n",
        "\n",
        "        \n",
        "        total_train_loss += loss.item()\n",
        "\n",
        "        # Perform a backward pass to calculate the gradients.\n",
        "        loss.backward()\n",
        "\n",
        "        # Clip the norm of the gradients to 1.0.\n",
        "        # This is to help prevent the \"exploding gradients\" problem.\n",
        "        torch.nn.utils.clip_grad_norm_(model.parameters(), 1.0)\n",
        "\n",
        "        \n",
        "        optimizer.step()\n",
        "\n",
        "        # Update the learning rate.\n",
        "        scheduler.step()\n",
        "\n",
        "    # Calculate the average loss over all of the batches.\n",
        "    avg_train_loss = total_train_loss / len(train_dataloader)            \n",
        "    \n",
        "    # Measure how long this epoch took.\n",
        "    training_time = format_time(time.time() - t0)\n",
        "\n",
        "    print(\"\")\n",
        "    print(\"  Average training loss: {0:.2f}\".format(avg_train_loss))\n",
        "    print(\"  Training epcoh took: {:}\".format(training_time))\n",
        "        \n",
        "    # ========================================\n",
        "    #               Validation\n",
        "    # ========================================\n",
        "    # After the completion of each training epoch, measure our performance on\n",
        "    # our validation set.\n",
        "\n",
        "    print(\"\")\n",
        "    print(\"Running Validation...\")\n",
        "\n",
        "    t0 = time.time()\n",
        "\n",
        "    # Put the model in evaluation mode--the dropout layers behave differently\n",
        "    # during evaluation.\n",
        "    model.eval()\n",
        "\n",
        "    # Tracking variables \n",
        "    total_eval_accuracy = 0\n",
        "    total_eval_loss = 0\n",
        "    nb_eval_steps = 0\n",
        "\n",
        "    # Evaluate data for one epoch\n",
        "    for batch in validation_dataloader:\n",
        "        \n",
        "        # Unpack this training batch from our dataloader. \n",
        "        #\n",
        "        # As we unpack the batch, we'll also copy each tensor to the GPU using \n",
        "        # the `to` method.\n",
        "        #\n",
        "        # `batch` contains three pytorch tensors:\n",
        "        #   [0]: input ids \n",
        "        #   [1]: attention masks\n",
        "        #   [2]: labels \n",
        "        b_input_ids = batch[0].to(device)\n",
        "        b_input_mask = batch[1].to(device)\n",
        "        b_labels = batch[2].to(device)\n",
        "        \n",
        "        # Tell pytorch not to bother with constructing the compute graph during\n",
        "        # the forward pass, since this is only needed for backprop (training).\n",
        "        with torch.no_grad():        \n",
        "\n",
        "            (loss, logits) = model(b_input_ids, \n",
        "                                   token_type_ids=None, \n",
        "                                   attention_mask=b_input_mask,\n",
        "                                   labels=b_labels)\n",
        "            \n",
        "        # Accumulate the validation loss.\n",
        "        total_eval_loss += loss.item()\n",
        "\n",
        "        # Move logits and labels to CPU\n",
        "        logits = logits.detach().cpu().numpy()\n",
        "        label_ids = b_labels.to('cpu').numpy()\n",
        "\n",
        "        # Calculate the accuracy for this batch of test sentences, and\n",
        "        # accumulate it over all batches.\n",
        "        total_eval_accuracy += flat_accuracy(logits, label_ids)\n",
        "        \n",
        "\n",
        "    # Report the final accuracy for this validation run.\n",
        "    avg_val_accuracy = total_eval_accuracy / len(validation_dataloader)\n",
        "    print(\"  Accuracy: {0:.2f}\".format(avg_val_accuracy))\n",
        "\n",
        "    # Calculate the average loss over all of the batches.\n",
        "    avg_val_loss = total_eval_loss / len(validation_dataloader)\n",
        "    \n",
        "    # Measure how long the validation run took.\n",
        "    validation_time = format_time(time.time() - t0)\n",
        "    \n",
        "    print(\"  Validation Loss: {0:.2f}\".format(avg_val_loss))\n",
        "    print(\"  Validation took: {:}\".format(validation_time))\n",
        "\n",
        "    # Record all statistics from this epoch.\n",
        "    training_stats.append(\n",
        "        {\n",
        "            'epoch': epoch_i + 1,\n",
        "            'Training Loss': avg_train_loss,\n",
        "            'Valid. Loss': avg_val_loss,\n",
        "            'Valid. Accur.': avg_val_accuracy,\n",
        "            'Training Time': training_time,\n",
        "            'Validation Time': validation_time\n",
        "        }\n",
        "    )\n",
        "\n",
        "print(\"\")\n",
        "print(\"Training complete!\")\n",
        "\n",
        "print(\"Total training took {:} (h:mm:ss)\".format(format_time(time.time()-total_t0)))"
      ],
      "execution_count": 0,
      "outputs": [
        {
          "output_type": "stream",
          "text": [
            "\n",
            "======== Epoch 1 / 4 ========\n",
            "Training...\n",
            "  Batch    40  of    671.    Elapsed: 0:00:17.\n",
            "  Batch    80  of    671.    Elapsed: 0:00:34.\n",
            "  Batch   120  of    671.    Elapsed: 0:00:51.\n",
            "  Batch   160  of    671.    Elapsed: 0:01:08.\n",
            "  Batch   200  of    671.    Elapsed: 0:01:25.\n",
            "  Batch   240  of    671.    Elapsed: 0:01:42.\n",
            "  Batch   280  of    671.    Elapsed: 0:01:59.\n",
            "  Batch   320  of    671.    Elapsed: 0:02:16.\n",
            "  Batch   360  of    671.    Elapsed: 0:02:33.\n",
            "  Batch   400  of    671.    Elapsed: 0:02:50.\n",
            "  Batch   440  of    671.    Elapsed: 0:03:07.\n",
            "  Batch   480  of    671.    Elapsed: 0:03:25.\n",
            "  Batch   520  of    671.    Elapsed: 0:03:42.\n",
            "  Batch   560  of    671.    Elapsed: 0:03:59.\n",
            "  Batch   600  of    671.    Elapsed: 0:04:16.\n",
            "  Batch   640  of    671.    Elapsed: 0:04:34.\n",
            "\n",
            "  Average training loss: 2.27\n",
            "  Training epcoh took: 0:04:47\n",
            "\n",
            "Running Validation...\n",
            "  Accuracy: 0.41\n",
            "  Validation Loss: 2.04\n",
            "  Validation took: 0:00:04\n",
            "\n",
            "======== Epoch 2 / 4 ========\n",
            "Training...\n",
            "  Batch    40  of    671.    Elapsed: 0:00:17.\n",
            "  Batch    80  of    671.    Elapsed: 0:00:34.\n",
            "  Batch   120  of    671.    Elapsed: 0:00:52.\n",
            "  Batch   160  of    671.    Elapsed: 0:01:09.\n",
            "  Batch   200  of    671.    Elapsed: 0:01:26.\n",
            "  Batch   240  of    671.    Elapsed: 0:01:44.\n",
            "  Batch   280  of    671.    Elapsed: 0:02:01.\n",
            "  Batch   320  of    671.    Elapsed: 0:02:18.\n",
            "  Batch   360  of    671.    Elapsed: 0:02:35.\n",
            "  Batch   400  of    671.    Elapsed: 0:02:52.\n",
            "  Batch   440  of    671.    Elapsed: 0:03:10.\n",
            "  Batch   480  of    671.    Elapsed: 0:03:27.\n",
            "  Batch   520  of    671.    Elapsed: 0:03:44.\n",
            "  Batch   560  of    671.    Elapsed: 0:04:01.\n",
            "  Batch   600  of    671.    Elapsed: 0:04:19.\n",
            "  Batch   640  of    671.    Elapsed: 0:04:36.\n",
            "\n",
            "  Average training loss: 1.83\n",
            "  Training epcoh took: 0:04:49\n",
            "\n",
            "Running Validation...\n",
            "  Accuracy: 0.46\n",
            "  Validation Loss: 1.86\n",
            "  Validation took: 0:00:04\n",
            "\n",
            "======== Epoch 3 / 4 ========\n",
            "Training...\n",
            "  Batch    40  of    671.    Elapsed: 0:00:17.\n",
            "  Batch    80  of    671.    Elapsed: 0:00:34.\n",
            "  Batch   120  of    671.    Elapsed: 0:00:52.\n",
            "  Batch   160  of    671.    Elapsed: 0:01:09.\n",
            "  Batch   200  of    671.    Elapsed: 0:01:26.\n",
            "  Batch   240  of    671.    Elapsed: 0:01:43.\n",
            "  Batch   280  of    671.    Elapsed: 0:02:01.\n",
            "  Batch   320  of    671.    Elapsed: 0:02:18.\n",
            "  Batch   360  of    671.    Elapsed: 0:02:35.\n",
            "  Batch   400  of    671.    Elapsed: 0:02:52.\n",
            "  Batch   440  of    671.    Elapsed: 0:03:10.\n",
            "  Batch   480  of    671.    Elapsed: 0:03:27.\n",
            "  Batch   520  of    671.    Elapsed: 0:03:44.\n",
            "  Batch   560  of    671.    Elapsed: 0:04:01.\n",
            "  Batch   600  of    671.    Elapsed: 0:04:19.\n",
            "  Batch   640  of    671.    Elapsed: 0:04:36.\n",
            "\n",
            "  Average training loss: 1.51\n",
            "  Training epcoh took: 0:04:49\n",
            "\n",
            "Running Validation...\n",
            "  Accuracy: 0.46\n",
            "  Validation Loss: 1.80\n",
            "  Validation took: 0:00:04\n",
            "\n",
            "======== Epoch 4 / 4 ========\n",
            "Training...\n",
            "  Batch    40  of    671.    Elapsed: 0:00:17.\n",
            "  Batch    80  of    671.    Elapsed: 0:00:34.\n",
            "  Batch   120  of    671.    Elapsed: 0:00:52.\n",
            "  Batch   160  of    671.    Elapsed: 0:01:09.\n",
            "  Batch   200  of    671.    Elapsed: 0:01:26.\n",
            "  Batch   240  of    671.    Elapsed: 0:01:43.\n",
            "  Batch   280  of    671.    Elapsed: 0:02:01.\n",
            "  Batch   320  of    671.    Elapsed: 0:02:18.\n",
            "  Batch   360  of    671.    Elapsed: 0:02:35.\n",
            "  Batch   400  of    671.    Elapsed: 0:02:52.\n",
            "  Batch   440  of    671.    Elapsed: 0:03:10.\n",
            "  Batch   480  of    671.    Elapsed: 0:03:27.\n",
            "  Batch   520  of    671.    Elapsed: 0:03:44.\n",
            "  Batch   560  of    671.    Elapsed: 0:04:01.\n",
            "  Batch   600  of    671.    Elapsed: 0:04:18.\n",
            "  Batch   640  of    671.    Elapsed: 0:04:36.\n",
            "\n",
            "  Average training loss: 1.29\n",
            "  Training epcoh took: 0:04:49\n",
            "\n",
            "Running Validation...\n",
            "  Accuracy: 0.47\n",
            "  Validation Loss: 1.82\n",
            "  Validation took: 0:00:04\n",
            "\n",
            "Training complete!\n",
            "Total training took 0:19:32 (h:mm:ss)\n"
          ],
          "name": "stdout"
        }
      ]
    },
    {
      "cell_type": "markdown",
      "metadata": {
        "id": "XcUfXyT2qsaC",
        "colab_type": "text"
      },
      "source": [
        "# Evaluation on dev set"
      ]
    },
    {
      "cell_type": "code",
      "metadata": {
        "id": "4O7rPtuoqvYZ",
        "colab_type": "code",
        "colab": {}
      },
      "source": [
        "data = read_tweets_labeled('drive/My Drive/NADI_release/dev_labeled.tsv')"
      ],
      "execution_count": 0,
      "outputs": []
    },
    {
      "cell_type": "code",
      "metadata": {
        "id": "LQp_l1B3raSv",
        "colab_type": "code",
        "outputId": "716de9e2-7c69-433c-aa0d-dcd3c4b535e6",
        "colab": {
          "base_uri": "https://localhost:8080/",
          "height": 195
        }
      },
      "source": [
        "data.head()"
      ],
      "execution_count": 0,
      "outputs": [
        {
          "output_type": "execute_result",
          "data": {
            "text/html": [
              "<div>\n",
              "<style scoped>\n",
              "    .dataframe tbody tr th:only-of-type {\n",
              "        vertical-align: middle;\n",
              "    }\n",
              "\n",
              "    .dataframe tbody tr th {\n",
              "        vertical-align: top;\n",
              "    }\n",
              "\n",
              "    .dataframe thead th {\n",
              "        text-align: right;\n",
              "    }\n",
              "</style>\n",
              "<table border=\"1\" class=\"dataframe\">\n",
              "  <thead>\n",
              "    <tr style=\"text-align: right;\">\n",
              "      <th></th>\n",
              "      <th>#1 tweet_ID</th>\n",
              "      <th>#2 tweet_content</th>\n",
              "      <th>#3 country_label</th>\n",
              "      <th>#4 province_label</th>\n",
              "      <th>label</th>\n",
              "    </tr>\n",
              "  </thead>\n",
              "  <tbody>\n",
              "    <tr>\n",
              "      <th>0</th>\n",
              "      <td>Dev_1</td>\n",
              "      <td>ايسكو لاعب اليوم :) اسيست وهدف</td>\n",
              "      <td>Iraq</td>\n",
              "      <td>iq_Ninawa</td>\n",
              "      <td>0</td>\n",
              "    </tr>\n",
              "    <tr>\n",
              "      <th>1</th>\n",
              "      <td>Dev_2</td>\n",
              "      <td>بعد صلاه الفجر بقا</td>\n",
              "      <td>Egypt</td>\n",
              "      <td>eg_Monufia</td>\n",
              "      <td>1</td>\n",
              "    </tr>\n",
              "    <tr>\n",
              "      <th>2</th>\n",
              "      <td>Dev_3</td>\n",
              "      <td>إن شاء الله هذه المرة يكون من نصيبي</td>\n",
              "      <td>Algeria</td>\n",
              "      <td>dz_Oran</td>\n",
              "      <td>2</td>\n",
              "    </tr>\n",
              "    <tr>\n",
              "      <th>3</th>\n",
              "      <td>Dev_4</td>\n",
              "      <td>ههههههههههههههههه خلي السوداني يزغبك</td>\n",
              "      <td>Yemen</td>\n",
              "      <td>ye_Al-Hudaydah</td>\n",
              "      <td>3</td>\n",
              "    </tr>\n",
              "    <tr>\n",
              "      <th>4</th>\n",
              "      <td>Dev_5</td>\n",
              "      <td>كل حاجة محسوبة يا جماعة والله</td>\n",
              "      <td>Egypt</td>\n",
              "      <td>eg_South-Sinai</td>\n",
              "      <td>1</td>\n",
              "    </tr>\n",
              "  </tbody>\n",
              "</table>\n",
              "</div>"
            ],
            "text/plain": [
              "  #1 tweet_ID                      #2 tweet_content  ... #4 province_label label\n",
              "0       Dev_1        ايسكو لاعب اليوم :) اسيست وهدف  ...         iq_Ninawa     0\n",
              "1       Dev_2                    بعد صلاه الفجر بقا  ...        eg_Monufia     1\n",
              "2       Dev_3   إن شاء الله هذه المرة يكون من نصيبي  ...           dz_Oran     2\n",
              "3       Dev_4  ههههههههههههههههه خلي السوداني يزغبك  ...    ye_Al-Hudaydah     3\n",
              "4       Dev_5         كل حاجة محسوبة يا جماعة والله  ...    eg_South-Sinai     1\n",
              "\n",
              "[5 rows x 5 columns]"
            ]
          },
          "metadata": {
            "tags": []
          },
          "execution_count": 140
        }
      ]
    },
    {
      "cell_type": "code",
      "metadata": {
        "id": "7VGhykzQrcJz",
        "colab_type": "code",
        "colab": {}
      },
      "source": [
        "dev_text = data['#2 tweet_content'].values\n",
        "dev_labels = data['label'].values"
      ],
      "execution_count": 0,
      "outputs": []
    },
    {
      "cell_type": "code",
      "metadata": {
        "id": "Xa6XGa2HloAy",
        "colab_type": "code",
        "outputId": "6ce3b361-a580-4ccf-bd29-3f958f63150e",
        "colab": {
          "base_uri": "https://localhost:8080/",
          "height": 158
        }
      },
      "source": [
        "input_ids,attention_masks,labels = Tokenize(dev_text,dev_labels)"
      ],
      "execution_count": 0,
      "outputs": [
        {
          "output_type": "stream",
          "text": [
            "Original:   ايسكو لاعب اليوم :) اسيست وهدف\n",
            "Token IDs: tensor([    2,  9839,  2763,  6326,  2089,    30,    13,  8654,  1782, 22622,\n",
            "            3,     0,     0,     0,     0,     0,     0,     0,     0,     0,\n",
            "            0,     0,     0,     0,     0,     0,     0,     0,     0,     0,\n",
            "            0,     0,     0,     0,     0,     0,     0,     0,     0,     0,\n",
            "            0,     0,     0,     0,     0,     0,     0,     0,     0,     0,\n",
            "            0,     0,     0,     0,     0,     0,     0,     0,     0,     0,\n",
            "            0,     0,     0,     0])\n"
          ],
          "name": "stdout"
        }
      ]
    },
    {
      "cell_type": "markdown",
      "metadata": {
        "id": "i3eKD2tglcWM",
        "colab_type": "text"
      },
      "source": [
        "Prediction loop"
      ]
    },
    {
      "cell_type": "code",
      "metadata": {
        "id": "UJ0mrGB2rwzM",
        "colab_type": "code",
        "colab": {}
      },
      "source": [
        "batch_size = 64\n",
        "\n",
        "prediction_data = TensorDataset(input_ids, attention_masks, labels)\n",
        "prediction_sampler = SequentialSampler(prediction_data)\n",
        "prediction_dataloader = DataLoader(prediction_data, sampler=prediction_sampler, batch_size=batch_size)"
      ],
      "execution_count": 0,
      "outputs": []
    },
    {
      "cell_type": "code",
      "metadata": {
        "id": "2pWm-ee65zic",
        "colab_type": "code",
        "colab": {}
      },
      "source": [
        "def predict(model,prediction_dataloader):\n",
        "  # Prediction on test set\n",
        "\n",
        "  print('Predicting labels for {:,} dev sentences...'.format(len(input_ids)))\n",
        "\n",
        "  # Put model in evaluation mode\n",
        "  model.eval()\n",
        "\n",
        "  # Tracking variables \n",
        "  predictions , true_labels = [], []\n",
        "\n",
        "  # Predict \n",
        "  for batch in prediction_dataloader:\n",
        "    # Add batch to GPU\n",
        "    batch = tuple(t.to(device) for t in batch)\n",
        "    \n",
        "    # Unpack the inputs from our dataloader\n",
        "    b_input_ids, b_input_mask, b_labels = batch\n",
        "    \n",
        "    # Telling the model not to compute or store gradients, saving memory and \n",
        "    # speeding up prediction\n",
        "    with torch.no_grad():\n",
        "        # Forward pass, calculate logit predictions\n",
        "        outputs = model(b_input_ids, token_type_ids=None, \n",
        "                        attention_mask=b_input_mask)\n",
        "\n",
        "    logits = outputs[0]\n",
        "\n",
        "    # Move logits and labels to CPU\n",
        "    logits = logits.detach().cpu().tolist()\n",
        "    label_ids = b_labels.to('cpu').tolist()\n",
        "    \n",
        "    # Store predictions and true labels\n",
        "    predictions.append(logits)\n",
        "    true_labels.append(label_ids)\n",
        "\n",
        "  print('    DONE.')\n",
        "  return predictions,true_labels"
      ],
      "execution_count": 0,
      "outputs": []
    },
    {
      "cell_type": "code",
      "metadata": {
        "id": "-Ae41iHimJDK",
        "colab_type": "code",
        "colab": {}
      },
      "source": [
        "from sklearn.metrics import classification_report\n",
        "\n",
        "def get_report(predictions,true_labels):\n",
        "  pred = [item for sublist in predictions for item in sublist]\n",
        "\n",
        "  true_label = [item for sublist in true_labels for item in sublist]\n",
        "\n",
        "  prediction = []\n",
        "  for i in range(len(pred)):\n",
        "    prediction.append(np.argmax(pred[i], axis=0).flatten()[0])\n",
        "\n",
        "  print(classification_report(true_label, prediction,target_names= list(labels_dictionary.keys())))"
      ],
      "execution_count": 0,
      "outputs": []
    },
    {
      "cell_type": "code",
      "metadata": {
        "id": "3cCMvIxE6Ac0",
        "colab_type": "code",
        "outputId": "68348cb3-042b-4e82-cc86-73b7c3643d68",
        "colab": {
          "base_uri": "https://localhost:8080/",
          "height": 52
        }
      },
      "source": [
        "pred,actual = predict(model,prediction_dataloader)"
      ],
      "execution_count": 0,
      "outputs": [
        {
          "output_type": "stream",
          "text": [
            "Predicting labels for 4,957 dev sentences...\n",
            "    DONE.\n"
          ],
          "name": "stdout"
        }
      ]
    },
    {
      "cell_type": "code",
      "metadata": {
        "id": "WhduGCWgdCXQ",
        "colab_type": "code",
        "outputId": "b2712e0e-d8c4-4e4e-efc9-0a71f58ef45a",
        "colab": {
          "base_uri": "https://localhost:8080/",
          "height": 510
        }
      },
      "source": [
        "get_report(pred,actual)"
      ],
      "execution_count": 0,
      "outputs": [
        {
          "output_type": "stream",
          "text": [
            "                      precision    recall  f1-score   support\n",
            "\n",
            "                Iraq       0.47      0.53      0.50       636\n",
            "               Egypt       0.59      0.74      0.66      1070\n",
            "             Algeria       0.45      0.46      0.45       359\n",
            "               Yemen       0.48      0.26      0.34       206\n",
            "        Saudi_Arabia       0.30      0.42      0.35       579\n",
            "               Syria       0.37      0.15      0.21       265\n",
            "United_Arab_Emirates       0.18      0.16      0.17       265\n",
            "                Oman       0.24      0.24      0.24       249\n",
            "              Jordan       0.23      0.16      0.19       104\n",
            "             Tunisia       0.35      0.28      0.31       164\n",
            "              Kuwait       0.00      0.00      0.00        70\n",
            "             Morocco       0.39      0.25      0.31       249\n",
            "               Libya       0.27      0.29      0.28       265\n",
            "               Qatar       0.06      0.05      0.05       104\n",
            "             Lebanon       0.38      0.14      0.20       110\n",
            "               Sudan       0.26      0.22      0.23        51\n",
            "          Mauritania       0.37      0.17      0.24        40\n",
            "           Palestine       0.14      0.04      0.06       102\n",
            "             Somalia       0.00      0.00      0.00        51\n",
            "             Bahrain       0.00      0.00      0.00         8\n",
            "            Djibouti       0.01      0.10      0.02        10\n",
            "\n",
            "            accuracy                           0.40      4957\n",
            "           macro avg       0.26      0.22      0.23      4957\n",
            "        weighted avg       0.39      0.40      0.38      4957\n",
            "\n"
          ],
          "name": "stdout"
        }
      ]
    },
    {
      "cell_type": "code",
      "metadata": {
        "id": "9-7wOAOxsZiD",
        "colab_type": "code",
        "colab": {}
      },
      "source": [
        ""
      ],
      "execution_count": 0,
      "outputs": []
    }
  ]
}